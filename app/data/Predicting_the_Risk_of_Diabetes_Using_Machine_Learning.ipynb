{
 "cells": [
  {
   "cell_type": "markdown",
   "metadata": {
    "id": "xyJbie_BSo0z",
    "papermill": {
     "duration": 0.021218,
     "end_time": "2021-02-23T11:27:16.119529",
     "exception": false,
     "start_time": "2021-02-23T11:27:16.098311",
     "status": "completed"
    },
    "tags": []
   },
   "source": [
    "# [Predicting the Risk of Diabetes at Early Stage Using Machine Learning](http://)\n",
    "\n",
    "Diabetes is a chronic, metabolic disease characterized by elevated levels of blood glucose (or blood sugar), which leads over time to serious damage to the heart, blood vessels, eyes, kidneys and nerves. The most common is type 2 diabetes, usually in adults, which occurs when the body becomes resistant to insulin or doesn't make enough insulin. In the past three decades the prevalence of type 2 diabetes has risen dramatically in countries of all income levels. Type 1 diabetes, once known as juvenile diabetes or insulin-dependent diabetes, is a chronic condition in which the pancreas produces little or no insulin by itself. For people living with diabetes, access to affordable treatment, including insulin, is critical to their survival. There is a globally agreed target to halt the rise in diabetes and obesity by 2025. \n",
    "\n",
    "![](https://northmemorial.com/wp-content/uploads/2016/10/Diabetes-illustration.png)\n",
    "\n",
    "> About 422 million people worldwide have diabetes, the majority living in low-and middle-income countries, and 1.6 million deaths are directly attributed to diabetes each year. Both the number of cases and the prevalence of diabetes have been steadily increasing over the past few decades. \n",
    "\n",
    "![](https://everydaydiabetes.com/wp-content/uploads/Diabetes-Statistics-Worldwide-Everyday-Diabetes.jpg)"
   ]
  },
  {
   "cell_type": "markdown",
   "metadata": {
    "id": "gMtUmxoZSXSb"
   },
   "source": [
    "# Import libraries"
   ]
  },
  {
   "cell_type": "code",
   "execution_count": 1,
   "metadata": {
    "ExecuteTime": {
     "end_time": "2021-10-27T20:40:12.170110Z",
     "start_time": "2021-10-27T20:40:05.426562Z"
    },
    "id": "H9x7g-VWSXSf"
   },
   "outputs": [],
   "source": [
    "import pandas as pd\n",
    "import pandas_profiling as pp\n",
    "import numpy as np\n",
    "import seaborn as sns\n",
    "import matplotlib.pyplot as plt\n",
    "import warnings\n",
    "import os\n",
    "import plotly.graph_objects as go\n",
    "import plotly.io as pio\n",
    "import pickle\n",
    "\n",
    "\n",
    "## Models\n",
    "from sklearn.linear_model import LogisticRegression\n",
    "from sklearn.neighbors import KNeighborsClassifier\n",
    "from sklearn.ensemble import RandomForestClassifier\n",
    "from sklearn.tree import DecisionTreeClassifier\n",
    "\n",
    "# Feature selection\n",
    "from sklearn.feature_selection import SelectFromModel\n",
    "# Preprocessing\n",
    "from sklearn.preprocessing import MinMaxScaler, StandardScaler, Normalizer, Binarizer, LabelEncoder\n",
    "\n",
    "## Model evaluators\n",
    "from sklearn.model_selection import train_test_split, cross_val_score\n",
    "from sklearn.model_selection import RandomizedSearchCV, GridSearchCV\n",
    "from sklearn.metrics import confusion_matrix, classification_report\n",
    "from sklearn.metrics import precision_score, recall_score, f1_score\n",
    "from sklearn.metrics import plot_roc_curve\n",
    "\n",
    "warnings.filterwarnings('ignore')\n",
    "%matplotlib inline\n",
    "\n",
    "sns.set_style(\"whitegrid\", {'axes.grid' : False})\n",
    "pio.templates.default = \"plotly_white\""
   ]
  },
  {
   "cell_type": "markdown",
   "metadata": {
    "id": "VkCiZ6QVSXSi"
   },
   "source": [
    "# Import and clean data"
   ]
  },
  {
   "cell_type": "code",
   "execution_count": 2,
   "metadata": {
    "ExecuteTime": {
     "end_time": "2021-10-27T20:40:15.197728Z",
     "start_time": "2021-10-27T20:40:15.182106Z"
    },
    "id": "CtdlRiLKSXSj"
   },
   "outputs": [],
   "source": [
    "df = pd.read_csv(\"diabetes_data.csv\") "
   ]
  },
  {
   "cell_type": "code",
   "execution_count": 3,
   "metadata": {
    "ExecuteTime": {
     "end_time": "2021-10-27T20:40:15.874328Z",
     "start_time": "2021-10-27T20:40:15.830393Z"
    },
    "colab": {
     "base_uri": "https://localhost:8080/",
     "height": 255
    },
    "id": "VJu7rpdHSXSj",
    "outputId": "5004fc3b-29e9-461a-8c5c-f1bbd0314a72",
    "scrolled": true
   },
   "outputs": [
    {
     "data": {
      "text/html": [
       "<div>\n",
       "<style scoped>\n",
       "    .dataframe tbody tr th:only-of-type {\n",
       "        vertical-align: middle;\n",
       "    }\n",
       "\n",
       "    .dataframe tbody tr th {\n",
       "        vertical-align: top;\n",
       "    }\n",
       "\n",
       "    .dataframe thead th {\n",
       "        text-align: right;\n",
       "    }\n",
       "</style>\n",
       "<table border=\"1\" class=\"dataframe\">\n",
       "  <thead>\n",
       "    <tr style=\"text-align: right;\">\n",
       "      <th></th>\n",
       "      <th>Age</th>\n",
       "      <th>Gender</th>\n",
       "      <th>Polyuria</th>\n",
       "      <th>Polydipsia</th>\n",
       "      <th>sudden weight loss</th>\n",
       "      <th>weakness</th>\n",
       "      <th>Polyphagia</th>\n",
       "      <th>Genital thrush</th>\n",
       "      <th>visual blurring</th>\n",
       "      <th>Itching</th>\n",
       "      <th>Irritability</th>\n",
       "      <th>delayed healing</th>\n",
       "      <th>partial paresis</th>\n",
       "      <th>muscle stiffness</th>\n",
       "      <th>Alopecia</th>\n",
       "      <th>Obesity</th>\n",
       "      <th>class</th>\n",
       "    </tr>\n",
       "  </thead>\n",
       "  <tbody>\n",
       "    <tr>\n",
       "      <th>0</th>\n",
       "      <td>40</td>\n",
       "      <td>Male</td>\n",
       "      <td>No</td>\n",
       "      <td>Yes</td>\n",
       "      <td>No</td>\n",
       "      <td>Yes</td>\n",
       "      <td>No</td>\n",
       "      <td>No</td>\n",
       "      <td>No</td>\n",
       "      <td>Yes</td>\n",
       "      <td>No</td>\n",
       "      <td>Yes</td>\n",
       "      <td>No</td>\n",
       "      <td>Yes</td>\n",
       "      <td>Yes</td>\n",
       "      <td>Yes</td>\n",
       "      <td>Positive</td>\n",
       "    </tr>\n",
       "    <tr>\n",
       "      <th>1</th>\n",
       "      <td>58</td>\n",
       "      <td>Male</td>\n",
       "      <td>No</td>\n",
       "      <td>No</td>\n",
       "      <td>No</td>\n",
       "      <td>Yes</td>\n",
       "      <td>No</td>\n",
       "      <td>No</td>\n",
       "      <td>Yes</td>\n",
       "      <td>No</td>\n",
       "      <td>No</td>\n",
       "      <td>No</td>\n",
       "      <td>Yes</td>\n",
       "      <td>No</td>\n",
       "      <td>Yes</td>\n",
       "      <td>No</td>\n",
       "      <td>Positive</td>\n",
       "    </tr>\n",
       "    <tr>\n",
       "      <th>2</th>\n",
       "      <td>41</td>\n",
       "      <td>Male</td>\n",
       "      <td>Yes</td>\n",
       "      <td>No</td>\n",
       "      <td>No</td>\n",
       "      <td>Yes</td>\n",
       "      <td>Yes</td>\n",
       "      <td>No</td>\n",
       "      <td>No</td>\n",
       "      <td>Yes</td>\n",
       "      <td>No</td>\n",
       "      <td>Yes</td>\n",
       "      <td>No</td>\n",
       "      <td>Yes</td>\n",
       "      <td>Yes</td>\n",
       "      <td>No</td>\n",
       "      <td>Positive</td>\n",
       "    </tr>\n",
       "    <tr>\n",
       "      <th>3</th>\n",
       "      <td>45</td>\n",
       "      <td>Male</td>\n",
       "      <td>No</td>\n",
       "      <td>No</td>\n",
       "      <td>Yes</td>\n",
       "      <td>Yes</td>\n",
       "      <td>Yes</td>\n",
       "      <td>Yes</td>\n",
       "      <td>No</td>\n",
       "      <td>Yes</td>\n",
       "      <td>No</td>\n",
       "      <td>Yes</td>\n",
       "      <td>No</td>\n",
       "      <td>No</td>\n",
       "      <td>No</td>\n",
       "      <td>No</td>\n",
       "      <td>Positive</td>\n",
       "    </tr>\n",
       "    <tr>\n",
       "      <th>4</th>\n",
       "      <td>60</td>\n",
       "      <td>Male</td>\n",
       "      <td>Yes</td>\n",
       "      <td>Yes</td>\n",
       "      <td>Yes</td>\n",
       "      <td>Yes</td>\n",
       "      <td>Yes</td>\n",
       "      <td>No</td>\n",
       "      <td>Yes</td>\n",
       "      <td>Yes</td>\n",
       "      <td>Yes</td>\n",
       "      <td>Yes</td>\n",
       "      <td>Yes</td>\n",
       "      <td>Yes</td>\n",
       "      <td>Yes</td>\n",
       "      <td>Yes</td>\n",
       "      <td>Positive</td>\n",
       "    </tr>\n",
       "  </tbody>\n",
       "</table>\n",
       "</div>"
      ],
      "text/plain": [
       "   Age Gender Polyuria Polydipsia sudden weight loss weakness Polyphagia  \\\n",
       "0   40   Male       No        Yes                 No      Yes         No   \n",
       "1   58   Male       No         No                 No      Yes         No   \n",
       "2   41   Male      Yes         No                 No      Yes        Yes   \n",
       "3   45   Male       No         No                Yes      Yes        Yes   \n",
       "4   60   Male      Yes        Yes                Yes      Yes        Yes   \n",
       "\n",
       "  Genital thrush visual blurring Itching Irritability delayed healing  \\\n",
       "0             No              No     Yes           No             Yes   \n",
       "1             No             Yes      No           No              No   \n",
       "2             No              No     Yes           No             Yes   \n",
       "3            Yes              No     Yes           No             Yes   \n",
       "4             No             Yes     Yes          Yes             Yes   \n",
       "\n",
       "  partial paresis muscle stiffness Alopecia Obesity     class  \n",
       "0              No              Yes      Yes     Yes  Positive  \n",
       "1             Yes               No      Yes      No  Positive  \n",
       "2              No              Yes      Yes      No  Positive  \n",
       "3              No               No       No      No  Positive  \n",
       "4             Yes              Yes      Yes     Yes  Positive  "
      ]
     },
     "execution_count": 3,
     "metadata": {},
     "output_type": "execute_result"
    }
   ],
   "source": [
    "df.head()"
   ]
  },
  {
   "cell_type": "markdown",
   "metadata": {
    "id": "V_QcR69YSo1E",
    "papermill": {
     "duration": 0.019602,
     "end_time": "2021-02-23T11:27:19.551998",
     "exception": false,
     "start_time": "2021-02-23T11:27:19.532396",
     "status": "completed"
    },
    "tags": []
   },
   "source": [
    "# [Size of Dataset](http://)\n",
    "> Our data  contains the sign and symptom data of newly diabetic or would be diabetic patient and have 520 rows and 17 columns."
   ]
  },
  {
   "cell_type": "code",
   "execution_count": 4,
   "metadata": {
    "ExecuteTime": {
     "end_time": "2021-10-27T20:40:16.937557Z",
     "start_time": "2021-10-27T20:40:16.930723Z"
    },
    "_cell_guid": "79c7e3d0-c299-4dcb-8224-4455121ee9b0",
    "_kg_hide-input": true,
    "_uuid": "d629ff2d2480ee46fbb7e2d37f6b5fab8052498a",
    "colab": {
     "base_uri": "https://localhost:8080/"
    },
    "execution": {
     "iopub.execute_input": "2021-02-23T11:27:19.596619Z",
     "iopub.status.busy": "2021-02-23T11:27:19.595738Z",
     "iopub.status.idle": "2021-02-23T11:27:19.600672Z",
     "shell.execute_reply": "2021-02-23T11:27:19.599929Z"
    },
    "id": "cVeGRlh5So1G",
    "outputId": "f418879c-e77b-45fd-e752-52545d67c05c",
    "papermill": {
     "duration": 0.029067,
     "end_time": "2021-02-23T11:27:19.600787",
     "exception": false,
     "start_time": "2021-02-23T11:27:19.571720",
     "status": "completed"
    },
    "tags": []
   },
   "outputs": [
    {
     "name": "stdout",
     "output_type": "stream",
     "text": [
      "Number of Instances and Attributes: (520, 17)\n"
     ]
    }
   ],
   "source": [
    "print(\"Number of Instances and Attributes:\", df.shape)"
   ]
  },
  {
   "cell_type": "markdown",
   "metadata": {
    "id": "928BG3xDSo1H",
    "papermill": {
     "duration": 0.020317,
     "end_time": "2021-02-23T11:27:19.641372",
     "exception": false,
     "start_time": "2021-02-23T11:27:19.621055",
     "status": "completed"
    },
    "tags": []
   },
   "source": [
    "# [Attribute Information:]()\n",
    "\n",
    "* **Age**: 20-65\n",
    "* **Sex**: Male, Female ( 1 , 0 )\n",
    "* **Polyuria**: Yes, No ( 1 , 0 )\n",
    "* **Polydipsia**: Yes, No ( 1 , 0 )\n",
    "* **sudden weight loss**: Yes, No ( 1 , 0 )\n",
    "* **weakness**: Yes, No ( 1 , 0 )\n",
    "* **Polyphagia**: Yes, No ( 1 , 0 )\n",
    "* **Genital thrush**: Yes, No ( 1 , 0 )\n",
    "* **visual blurring**: Yes, No ( 1 , 0 )\n",
    "* **Itching**: Yes, No ( 1 , 0 )\n",
    "* **Irritability**: Yes, No ( 1 , 0 )\n",
    "* **delayed healing**: Yes, No ( 1 , 0 )\n",
    "* **partial paresis**: Yes, No ( 1 , 0 )\n",
    "* **muscle stiness**: Yes, No ( 1 , 0 )\n",
    "* **Alopecia**: Yes, No ( 1 , 0 )\n",
    "* **Obesity**: Yes, No ( 1 , 0 )\n",
    "* **Class**: 1.Positive, 2.Negative.\n",
    "\n"
   ]
  },
  {
   "cell_type": "code",
   "execution_count": 5,
   "metadata": {
    "ExecuteTime": {
     "end_time": "2021-10-27T20:40:19.241713Z",
     "start_time": "2021-10-27T20:40:19.218279Z"
    },
    "_kg_hide-input": true,
    "colab": {
     "base_uri": "https://localhost:8080/"
    },
    "execution": {
     "iopub.execute_input": "2021-02-23T11:27:19.689023Z",
     "iopub.status.busy": "2021-02-23T11:27:19.688097Z",
     "iopub.status.idle": "2021-02-23T11:27:19.692881Z",
     "shell.execute_reply": "2021-02-23T11:27:19.692206Z"
    },
    "id": "NHbzrQuoSo1J",
    "outputId": "85a46f2b-adfa-45eb-e3d2-4cb0a5e0570b",
    "papermill": {
     "duration": 0.030963,
     "end_time": "2021-02-23T11:27:19.692997",
     "exception": false,
     "start_time": "2021-02-23T11:27:19.662034",
     "status": "completed"
    },
    "tags": []
   },
   "outputs": [
    {
     "data": {
      "text/plain": [
       "Index(['Age', 'Gender', 'Polyuria', 'Polydipsia', 'sudden weight loss',\n",
       "       'weakness', 'Polyphagia', 'Genital thrush', 'visual blurring',\n",
       "       'Itching', 'Irritability', 'delayed healing', 'partial paresis',\n",
       "       'muscle stiffness', 'Alopecia', 'Obesity', 'class'],\n",
       "      dtype='object')"
      ]
     },
     "execution_count": 5,
     "metadata": {},
     "output_type": "execute_result"
    }
   ],
   "source": [
    "df.columns"
   ]
  },
  {
   "cell_type": "markdown",
   "metadata": {
    "id": "RcfPKaWzSo1M",
    "papermill": {
     "duration": 0.021216,
     "end_time": "2021-02-23T11:27:19.736452",
     "exception": false,
     "start_time": "2021-02-23T11:27:19.715236",
     "status": "completed"
    },
    "tags": []
   },
   "source": [
    "# [Data type of each columns](http://)"
   ]
  },
  {
   "cell_type": "code",
   "execution_count": 6,
   "metadata": {
    "ExecuteTime": {
     "end_time": "2021-10-27T20:40:20.361565Z",
     "start_time": "2021-10-27T20:40:20.353755Z"
    },
    "_kg_hide-input": true,
    "colab": {
     "base_uri": "https://localhost:8080/"
    },
    "execution": {
     "iopub.execute_input": "2021-02-23T11:27:19.785505Z",
     "iopub.status.busy": "2021-02-23T11:27:19.784720Z",
     "iopub.status.idle": "2021-02-23T11:27:19.789042Z",
     "shell.execute_reply": "2021-02-23T11:27:19.788344Z"
    },
    "id": "8ySS5fQ0So1N",
    "outputId": "b6cf5766-88f6-427d-b343-923c6ade2472",
    "papermill": {
     "duration": 0.031933,
     "end_time": "2021-02-23T11:27:19.789158",
     "exception": false,
     "start_time": "2021-02-23T11:27:19.757225",
     "status": "completed"
    },
    "tags": []
   },
   "outputs": [
    {
     "name": "stdout",
     "output_type": "stream",
     "text": [
      "Age                    int64\n",
      "Gender                object\n",
      "Polyuria              object\n",
      "Polydipsia            object\n",
      "sudden weight loss    object\n",
      "weakness              object\n",
      "Polyphagia            object\n",
      "Genital thrush        object\n",
      "visual blurring       object\n",
      "Itching               object\n",
      "Irritability          object\n",
      "delayed healing       object\n",
      "partial paresis       object\n",
      "muscle stiffness      object\n",
      "Alopecia              object\n",
      "Obesity               object\n",
      "class                 object\n",
      "dtype: object\n"
     ]
    }
   ],
   "source": [
    "print(df.dtypes)"
   ]
  },
  {
   "cell_type": "markdown",
   "metadata": {
    "id": "9ASFKDSvSo1P",
    "papermill": {
     "duration": 0.020939,
     "end_time": "2021-02-23T11:27:19.832068",
     "exception": false,
     "start_time": "2021-02-23T11:27:19.811129",
     "status": "completed"
    },
    "tags": []
   },
   "source": [
    "# [Checking for NaN Values](http://)"
   ]
  },
  {
   "cell_type": "code",
   "execution_count": 7,
   "metadata": {
    "ExecuteTime": {
     "end_time": "2021-10-27T20:40:21.565387Z",
     "start_time": "2021-10-27T20:40:21.535120Z"
    },
    "_kg_hide-input": true,
    "colab": {
     "base_uri": "https://localhost:8080/"
    },
    "execution": {
     "iopub.execute_input": "2021-02-23T11:27:19.884137Z",
     "iopub.status.busy": "2021-02-23T11:27:19.883434Z",
     "iopub.status.idle": "2021-02-23T11:27:19.887640Z",
     "shell.execute_reply": "2021-02-23T11:27:19.887050Z"
    },
    "id": "SFACS7fYSo1Q",
    "outputId": "03db43e1-08a8-4669-b37b-78d23f41171f",
    "papermill": {
     "duration": 0.034534,
     "end_time": "2021-02-23T11:27:19.887758",
     "exception": false,
     "start_time": "2021-02-23T11:27:19.853224",
     "status": "completed"
    },
    "tags": []
   },
   "outputs": [
    {
     "data": {
      "text/plain": [
       "Age                   0\n",
       "Gender                0\n",
       "Polyuria              0\n",
       "Polydipsia            0\n",
       "sudden weight loss    0\n",
       "weakness              0\n",
       "Polyphagia            0\n",
       "Genital thrush        0\n",
       "visual blurring       0\n",
       "Itching               0\n",
       "Irritability          0\n",
       "delayed healing       0\n",
       "partial paresis       0\n",
       "muscle stiffness      0\n",
       "Alopecia              0\n",
       "Obesity               0\n",
       "class                 0\n",
       "dtype: int64"
      ]
     },
     "execution_count": 7,
     "metadata": {},
     "output_type": "execute_result"
    }
   ],
   "source": [
    "df.isna().sum()"
   ]
  },
  {
   "cell_type": "markdown",
   "metadata": {
    "id": "lbi5dWVFSo1Q",
    "papermill": {
     "duration": 0.021242,
     "end_time": "2021-02-23T11:27:19.930885",
     "exception": false,
     "start_time": "2021-02-23T11:27:19.909643",
     "status": "completed"
    },
    "tags": []
   },
   "source": [
    "# [Data Analysis](http://)\n",
    "\n"
   ]
  },
  {
   "cell_type": "code",
   "execution_count": 9,
   "metadata": {
    "ExecuteTime": {
     "end_time": "2021-10-27T20:40:29.139798Z",
     "start_time": "2021-10-27T20:40:28.226924Z"
    },
    "_kg_hide-input": true,
    "colab": {
     "base_uri": "https://localhost:8080/",
     "height": 584
    },
    "execution": {
     "iopub.execute_input": "2021-02-23T11:27:20.332868Z",
     "iopub.status.busy": "2021-02-23T11:27:20.331715Z",
     "iopub.status.idle": "2021-02-23T11:27:21.012982Z",
     "shell.execute_reply": "2021-02-23T11:27:21.012268Z"
    },
    "id": "NE65EfwNSo1S",
    "outputId": "d830b526-9378-475d-f18f-2a052c18a7fe",
    "papermill": {
     "duration": 0.724841,
     "end_time": "2021-02-23T11:27:21.013106",
     "exception": false,
     "start_time": "2021-02-23T11:27:20.288265",
     "status": "completed"
    },
    "tags": []
   },
   "outputs": [
    {
     "data": {
      "image/png": "[encoded data removed]",
      "text/plain": [
       "<Figure size 1584x720 with 2 Axes>"
      ]
     },
     "metadata": {},
     "output_type": "display_data"
    }
   ],
   "source": [
    "f,ax=plt.subplots(1,2,figsize=(22,10))\n",
    "#sns.stripplot(x=\"class\", y=\"Age\", data=df, jitter=True, palette=\"Set1\", ax=ax[0])\n",
    "\n",
    "sns.swarmplot(x=\"class\", y=\"Age\",data=df, palette=\"Set1\", ax=ax[0])\n",
    "sns.violinplot(x=\"class\", y=\"Age\", data=df, palette=\"Set1\", ax=ax[1])\n",
    "f.suptitle('Age of Positives vs Negatives', fontweight=\"bold\");\n",
    "\n"
   ]
  },
  {
   "cell_type": "code",
   "execution_count": 10,
   "metadata": {
    "ExecuteTime": {
     "end_time": "2021-10-27T20:40:29.931605Z",
     "start_time": "2021-10-27T20:40:29.625038Z"
    },
    "_kg_hide-input": true,
    "colab": {
     "base_uri": "https://localhost:8080/",
     "height": 513
    },
    "execution": {
     "iopub.execute_input": "2021-02-23T11:27:21.079511Z",
     "iopub.status.busy": "2021-02-23T11:27:21.073835Z",
     "iopub.status.idle": "2021-02-23T11:27:21.269321Z",
     "shell.execute_reply": "2021-02-23T11:27:21.268724Z"
    },
    "id": "wI_u9539So1T",
    "outputId": "bac22950-30d6-48db-8001-7eb7aa999bbb",
    "papermill": {
     "duration": 0.230349,
     "end_time": "2021-02-23T11:27:21.269431",
     "exception": false,
     "start_time": "2021-02-23T11:27:21.039082",
     "status": "completed"
    },
    "tags": []
   },
   "outputs": [
    {
     "data": {
      "image/png": "[encoded data removed]",
      "text/plain": [
       "<Figure size 864x576 with 1 Axes>"
      ]
     },
     "metadata": {},
     "output_type": "display_data"
    }
   ],
   "source": [
    "plt.figure(figsize=(12,8))\n",
    "sns.countplot(x=\"class\", hue=\"Gender\", palette=['STEELBLUE','crimson'],data=df);\n",
    "plt.title('Gender of Positives vs Negatives',fontweight=\"bold\");"
   ]
  },
  {
   "cell_type": "code",
   "execution_count": 11,
   "metadata": {
    "ExecuteTime": {
     "end_time": "2021-10-27T20:40:30.714627Z",
     "start_time": "2021-10-27T20:40:30.477378Z"
    },
    "_kg_hide-input": true,
    "colab": {
     "base_uri": "https://localhost:8080/",
     "height": 350
    },
    "execution": {
     "iopub.execute_input": "2021-02-23T11:27:21.342726Z",
     "iopub.status.busy": "2021-02-23T11:27:21.339372Z",
     "iopub.status.idle": "2021-02-23T11:27:21.485321Z",
     "shell.execute_reply": "2021-02-23T11:27:21.484632Z"
    },
    "id": "5w9jVpyHSo1U",
    "outputId": "1ad3f22f-d17e-4798-edd3-e1276d43e160",
    "papermill": {
     "duration": 0.188543,
     "end_time": "2021-02-23T11:27:21.485439",
     "exception": false,
     "start_time": "2021-02-23T11:27:21.296896",
     "status": "completed"
    },
    "tags": []
   },
   "outputs": [
    {
     "data": {
      "image/png": "[encoded data removed]",
      "text/plain": [
       "<Figure size 720x360 with 1 Axes>"
      ]
     },
     "metadata": {},
     "output_type": "display_data"
    }
   ],
   "source": [
    "plt.figure(figsize=(10,5))\n",
    "sns.countplot(x=df['class'], palette='Set1');\n",
    "plt.title('Class Distribution',fontweight=\"bold\",alpha=0.8);"
   ]
  },
  {
   "cell_type": "code",
   "execution_count": 12,
   "metadata": {
    "ExecuteTime": {
     "end_time": "2021-10-27T20:40:31.392203Z",
     "start_time": "2021-10-27T20:40:31.238919Z"
    },
    "colab": {
     "base_uri": "https://localhost:8080/",
     "height": 570
    },
    "execution": {
     "iopub.execute_input": "2021-02-23T11:27:21.550103Z",
     "iopub.status.busy": "2021-02-23T11:27:21.547968Z",
     "iopub.status.idle": "2021-02-23T11:27:21.627435Z",
     "shell.execute_reply": "2021-02-23T11:27:21.626276Z"
    },
    "id": "jah63GBpSo1W",
    "outputId": "30c00b9d-b734-49bf-9f2f-01e24b65d717",
    "papermill": {
     "duration": 0.114248,
     "end_time": "2021-02-23T11:27:21.627572",
     "exception": false,
     "start_time": "2021-02-23T11:27:21.513324",
     "status": "completed"
    },
    "tags": []
   },
   "outputs": [
    {
     "data": {
      "text/html": [
       "<div>\n",
       "<style scoped>\n",
       "    .dataframe tbody tr th:only-of-type {\n",
       "        vertical-align: middle;\n",
       "    }\n",
       "\n",
       "    .dataframe tbody tr th {\n",
       "        vertical-align: top;\n",
       "    }\n",
       "\n",
       "    .dataframe thead th {\n",
       "        text-align: right;\n",
       "    }\n",
       "</style>\n",
       "<table border=\"1\" class=\"dataframe\">\n",
       "  <thead>\n",
       "    <tr style=\"text-align: right;\">\n",
       "      <th></th>\n",
       "      <th>count</th>\n",
       "      <th>mean</th>\n",
       "      <th>std</th>\n",
       "      <th>min</th>\n",
       "      <th>25%</th>\n",
       "      <th>50%</th>\n",
       "      <th>75%</th>\n",
       "      <th>max</th>\n",
       "    </tr>\n",
       "  </thead>\n",
       "  <tbody>\n",
       "    <tr>\n",
       "      <th>Age</th>\n",
       "      <td>520.0</td>\n",
       "      <td>48.028846</td>\n",
       "      <td>12.151466</td>\n",
       "      <td>16.0</td>\n",
       "      <td>39.0</td>\n",
       "      <td>47.5</td>\n",
       "      <td>57.0</td>\n",
       "      <td>90.0</td>\n",
       "    </tr>\n",
       "    <tr>\n",
       "      <th>Gender</th>\n",
       "      <td>520.0</td>\n",
       "      <td>0.630769</td>\n",
       "      <td>0.483061</td>\n",
       "      <td>0.0</td>\n",
       "      <td>0.0</td>\n",
       "      <td>1.0</td>\n",
       "      <td>1.0</td>\n",
       "      <td>1.0</td>\n",
       "    </tr>\n",
       "    <tr>\n",
       "      <th>Polyuria</th>\n",
       "      <td>520.0</td>\n",
       "      <td>0.496154</td>\n",
       "      <td>0.500467</td>\n",
       "      <td>0.0</td>\n",
       "      <td>0.0</td>\n",
       "      <td>0.0</td>\n",
       "      <td>1.0</td>\n",
       "      <td>1.0</td>\n",
       "    </tr>\n",
       "    <tr>\n",
       "      <th>Polydipsia</th>\n",
       "      <td>520.0</td>\n",
       "      <td>0.448077</td>\n",
       "      <td>0.497776</td>\n",
       "      <td>0.0</td>\n",
       "      <td>0.0</td>\n",
       "      <td>0.0</td>\n",
       "      <td>1.0</td>\n",
       "      <td>1.0</td>\n",
       "    </tr>\n",
       "    <tr>\n",
       "      <th>sudden weight loss</th>\n",
       "      <td>520.0</td>\n",
       "      <td>0.417308</td>\n",
       "      <td>0.493589</td>\n",
       "      <td>0.0</td>\n",
       "      <td>0.0</td>\n",
       "      <td>0.0</td>\n",
       "      <td>1.0</td>\n",
       "      <td>1.0</td>\n",
       "    </tr>\n",
       "    <tr>\n",
       "      <th>weakness</th>\n",
       "      <td>520.0</td>\n",
       "      <td>0.586538</td>\n",
       "      <td>0.492928</td>\n",
       "      <td>0.0</td>\n",
       "      <td>0.0</td>\n",
       "      <td>1.0</td>\n",
       "      <td>1.0</td>\n",
       "      <td>1.0</td>\n",
       "    </tr>\n",
       "    <tr>\n",
       "      <th>Polyphagia</th>\n",
       "      <td>520.0</td>\n",
       "      <td>0.455769</td>\n",
       "      <td>0.498519</td>\n",
       "      <td>0.0</td>\n",
       "      <td>0.0</td>\n",
       "      <td>0.0</td>\n",
       "      <td>1.0</td>\n",
       "      <td>1.0</td>\n",
       "    </tr>\n",
       "    <tr>\n",
       "      <th>Genital thrush</th>\n",
       "      <td>520.0</td>\n",
       "      <td>0.223077</td>\n",
       "      <td>0.416710</td>\n",
       "      <td>0.0</td>\n",
       "      <td>0.0</td>\n",
       "      <td>0.0</td>\n",
       "      <td>0.0</td>\n",
       "      <td>1.0</td>\n",
       "    </tr>\n",
       "    <tr>\n",
       "      <th>visual blurring</th>\n",
       "      <td>520.0</td>\n",
       "      <td>0.448077</td>\n",
       "      <td>0.497776</td>\n",
       "      <td>0.0</td>\n",
       "      <td>0.0</td>\n",
       "      <td>0.0</td>\n",
       "      <td>1.0</td>\n",
       "      <td>1.0</td>\n",
       "    </tr>\n",
       "    <tr>\n",
       "      <th>Itching</th>\n",
       "      <td>520.0</td>\n",
       "      <td>0.486538</td>\n",
       "      <td>0.500300</td>\n",
       "      <td>0.0</td>\n",
       "      <td>0.0</td>\n",
       "      <td>0.0</td>\n",
       "      <td>1.0</td>\n",
       "      <td>1.0</td>\n",
       "    </tr>\n",
       "    <tr>\n",
       "      <th>Irritability</th>\n",
       "      <td>520.0</td>\n",
       "      <td>0.242308</td>\n",
       "      <td>0.428892</td>\n",
       "      <td>0.0</td>\n",
       "      <td>0.0</td>\n",
       "      <td>0.0</td>\n",
       "      <td>0.0</td>\n",
       "      <td>1.0</td>\n",
       "    </tr>\n",
       "    <tr>\n",
       "      <th>delayed healing</th>\n",
       "      <td>520.0</td>\n",
       "      <td>0.459615</td>\n",
       "      <td>0.498846</td>\n",
       "      <td>0.0</td>\n",
       "      <td>0.0</td>\n",
       "      <td>0.0</td>\n",
       "      <td>1.0</td>\n",
       "      <td>1.0</td>\n",
       "    </tr>\n",
       "    <tr>\n",
       "      <th>partial paresis</th>\n",
       "      <td>520.0</td>\n",
       "      <td>0.430769</td>\n",
       "      <td>0.495661</td>\n",
       "      <td>0.0</td>\n",
       "      <td>0.0</td>\n",
       "      <td>0.0</td>\n",
       "      <td>1.0</td>\n",
       "      <td>1.0</td>\n",
       "    </tr>\n",
       "    <tr>\n",
       "      <th>muscle stiffness</th>\n",
       "      <td>520.0</td>\n",
       "      <td>0.375000</td>\n",
       "      <td>0.484589</td>\n",
       "      <td>0.0</td>\n",
       "      <td>0.0</td>\n",
       "      <td>0.0</td>\n",
       "      <td>1.0</td>\n",
       "      <td>1.0</td>\n",
       "    </tr>\n",
       "    <tr>\n",
       "      <th>Alopecia</th>\n",
       "      <td>520.0</td>\n",
       "      <td>0.344231</td>\n",
       "      <td>0.475574</td>\n",
       "      <td>0.0</td>\n",
       "      <td>0.0</td>\n",
       "      <td>0.0</td>\n",
       "      <td>1.0</td>\n",
       "      <td>1.0</td>\n",
       "    </tr>\n",
       "    <tr>\n",
       "      <th>Obesity</th>\n",
       "      <td>520.0</td>\n",
       "      <td>0.169231</td>\n",
       "      <td>0.375317</td>\n",
       "      <td>0.0</td>\n",
       "      <td>0.0</td>\n",
       "      <td>0.0</td>\n",
       "      <td>0.0</td>\n",
       "      <td>1.0</td>\n",
       "    </tr>\n",
       "    <tr>\n",
       "      <th>class</th>\n",
       "      <td>520.0</td>\n",
       "      <td>0.615385</td>\n",
       "      <td>0.486973</td>\n",
       "      <td>0.0</td>\n",
       "      <td>0.0</td>\n",
       "      <td>1.0</td>\n",
       "      <td>1.0</td>\n",
       "      <td>1.0</td>\n",
       "    </tr>\n",
       "  </tbody>\n",
       "</table>\n",
       "</div>"
      ],
      "text/plain": [
       "                    count       mean        std   min   25%   50%   75%   max\n",
       "Age                 520.0  48.028846  12.151466  16.0  39.0  47.5  57.0  90.0\n",
       "Gender              520.0   0.630769   0.483061   0.0   0.0   1.0   1.0   1.0\n",
       "Polyuria            520.0   0.496154   0.500467   0.0   0.0   0.0   1.0   1.0\n",
       "Polydipsia          520.0   0.448077   0.497776   0.0   0.0   0.0   1.0   1.0\n",
       "sudden weight loss  520.0   0.417308   0.493589   0.0   0.0   0.0   1.0   1.0\n",
       "weakness            520.0   0.586538   0.492928   0.0   0.0   1.0   1.0   1.0\n",
       "Polyphagia          520.0   0.455769   0.498519   0.0   0.0   0.0   1.0   1.0\n",
       "Genital thrush      520.0   0.223077   0.416710   0.0   0.0   0.0   0.0   1.0\n",
       "visual blurring     520.0   0.448077   0.497776   0.0   0.0   0.0   1.0   1.0\n",
       "Itching             520.0   0.486538   0.500300   0.0   0.0   0.0   1.0   1.0\n",
       "Irritability        520.0   0.242308   0.428892   0.0   0.0   0.0   0.0   1.0\n",
       "delayed healing     520.0   0.459615   0.498846   0.0   0.0   0.0   1.0   1.0\n",
       "partial paresis     520.0   0.430769   0.495661   0.0   0.0   0.0   1.0   1.0\n",
       "muscle stiffness    520.0   0.375000   0.484589   0.0   0.0   0.0   1.0   1.0\n",
       "Alopecia            520.0   0.344231   0.475574   0.0   0.0   0.0   1.0   1.0\n",
       "Obesity             520.0   0.169231   0.375317   0.0   0.0   0.0   0.0   1.0\n",
       "class               520.0   0.615385   0.486973   0.0   0.0   1.0   1.0   1.0"
      ]
     },
     "execution_count": 12,
     "metadata": {},
     "output_type": "execute_result"
    }
   ],
   "source": [
    "for c in df.columns:\n",
    "    if df[c].dtype == 'object':\n",
    "        lbl = LabelEncoder()\n",
    "        lbl.fit(list(df[c].values)) \n",
    "        df[c] = lbl.transform(list(df[c].values))\n",
    "        \n",
    "df.describe().T"
   ]
  },
  {
   "cell_type": "code",
   "execution_count": 13,
   "metadata": {
    "ExecuteTime": {
     "end_time": "2021-10-27T20:40:34.315353Z",
     "start_time": "2021-10-27T20:40:31.960431Z"
    },
    "colab": {
     "base_uri": "https://localhost:8080/",
     "height": 1000
    },
    "execution": {
     "iopub.execute_input": "2021-02-23T11:27:21.697750Z",
     "iopub.status.busy": "2021-02-23T11:27:21.693355Z",
     "iopub.status.idle": "2021-02-23T11:27:23.079542Z",
     "shell.execute_reply": "2021-02-23T11:27:23.080111Z"
    },
    "id": "nhDjKV4eSo1X",
    "outputId": "241999d1-3c3f-4772-85c7-8fdd835c87bd",
    "papermill": {
     "duration": 1.423588,
     "end_time": "2021-02-23T11:27:23.080271",
     "exception": false,
     "start_time": "2021-02-23T11:27:21.656683",
     "status": "completed"
    },
    "tags": []
   },
   "outputs": [
    {
     "data": {
      "image/png": "[encoded data removed]",
      "text/plain": [
       "<Figure size 1296x1080 with 2 Axes>"
      ]
     },
     "metadata": {},
     "output_type": "display_data"
    }
   ],
   "source": [
    "colormap = plt.cm.RdBu\n",
    "plt.figure(figsize=(18,15));\n",
    "plt.title('Pearson Correlation of Features', y=1.05, size=50);\n",
    "sns.heatmap(df.corr(),linewidths=0.1, vmax=1.0, square=True, cmap=colormap, linecolor='white', annot=True);"
   ]
  },
  {
   "cell_type": "code",
   "execution_count": 14,
   "metadata": {
    "ExecuteTime": {
     "end_time": "2021-10-27T20:40:35.012456Z",
     "start_time": "2021-10-27T20:40:34.975355Z"
    },
    "colab": {
     "base_uri": "https://localhost:8080/",
     "height": 467
    },
    "id": "JMwU9IxxUZDw",
    "outputId": "035cb2c1-ca99-4073-d7dc-178dbae69777"
   },
   "outputs": [
    {
     "data": {
      "text/html": [
       "<div>\n",
       "<style scoped>\n",
       "    .dataframe tbody tr th:only-of-type {\n",
       "        vertical-align: middle;\n",
       "    }\n",
       "\n",
       "    .dataframe tbody tr th {\n",
       "        vertical-align: top;\n",
       "    }\n",
       "\n",
       "    .dataframe thead th {\n",
       "        text-align: right;\n",
       "    }\n",
       "</style>\n",
       "<table border=\"1\" class=\"dataframe\">\n",
       "  <thead>\n",
       "    <tr style=\"text-align: right;\">\n",
       "      <th></th>\n",
       "      <th>Age</th>\n",
       "      <th>Gender</th>\n",
       "      <th>Polyuria</th>\n",
       "      <th>Polydipsia</th>\n",
       "      <th>sudden weight loss</th>\n",
       "      <th>weakness</th>\n",
       "      <th>Polyphagia</th>\n",
       "      <th>Genital thrush</th>\n",
       "      <th>visual blurring</th>\n",
       "      <th>Itching</th>\n",
       "      <th>Irritability</th>\n",
       "      <th>delayed healing</th>\n",
       "      <th>partial paresis</th>\n",
       "      <th>muscle stiffness</th>\n",
       "      <th>Alopecia</th>\n",
       "      <th>Obesity</th>\n",
       "      <th>class</th>\n",
       "    </tr>\n",
       "  </thead>\n",
       "  <tbody>\n",
       "    <tr>\n",
       "      <th>0</th>\n",
       "      <td>40</td>\n",
       "      <td>1</td>\n",
       "      <td>0</td>\n",
       "      <td>1</td>\n",
       "      <td>0</td>\n",
       "      <td>1</td>\n",
       "      <td>0</td>\n",
       "      <td>0</td>\n",
       "      <td>0</td>\n",
       "      <td>1</td>\n",
       "      <td>0</td>\n",
       "      <td>1</td>\n",
       "      <td>0</td>\n",
       "      <td>1</td>\n",
       "      <td>1</td>\n",
       "      <td>1</td>\n",
       "      <td>1</td>\n",
       "    </tr>\n",
       "    <tr>\n",
       "      <th>1</th>\n",
       "      <td>58</td>\n",
       "      <td>1</td>\n",
       "      <td>0</td>\n",
       "      <td>0</td>\n",
       "      <td>0</td>\n",
       "      <td>1</td>\n",
       "      <td>0</td>\n",
       "      <td>0</td>\n",
       "      <td>1</td>\n",
       "      <td>0</td>\n",
       "      <td>0</td>\n",
       "      <td>0</td>\n",
       "      <td>1</td>\n",
       "      <td>0</td>\n",
       "      <td>1</td>\n",
       "      <td>0</td>\n",
       "      <td>1</td>\n",
       "    </tr>\n",
       "    <tr>\n",
       "      <th>2</th>\n",
       "      <td>41</td>\n",
       "      <td>1</td>\n",
       "      <td>1</td>\n",
       "      <td>0</td>\n",
       "      <td>0</td>\n",
       "      <td>1</td>\n",
       "      <td>1</td>\n",
       "      <td>0</td>\n",
       "      <td>0</td>\n",
       "      <td>1</td>\n",
       "      <td>0</td>\n",
       "      <td>1</td>\n",
       "      <td>0</td>\n",
       "      <td>1</td>\n",
       "      <td>1</td>\n",
       "      <td>0</td>\n",
       "      <td>1</td>\n",
       "    </tr>\n",
       "    <tr>\n",
       "      <th>3</th>\n",
       "      <td>45</td>\n",
       "      <td>1</td>\n",
       "      <td>0</td>\n",
       "      <td>0</td>\n",
       "      <td>1</td>\n",
       "      <td>1</td>\n",
       "      <td>1</td>\n",
       "      <td>1</td>\n",
       "      <td>0</td>\n",
       "      <td>1</td>\n",
       "      <td>0</td>\n",
       "      <td>1</td>\n",
       "      <td>0</td>\n",
       "      <td>0</td>\n",
       "      <td>0</td>\n",
       "      <td>0</td>\n",
       "      <td>1</td>\n",
       "    </tr>\n",
       "    <tr>\n",
       "      <th>4</th>\n",
       "      <td>60</td>\n",
       "      <td>1</td>\n",
       "      <td>1</td>\n",
       "      <td>1</td>\n",
       "      <td>1</td>\n",
       "      <td>1</td>\n",
       "      <td>1</td>\n",
       "      <td>0</td>\n",
       "      <td>1</td>\n",
       "      <td>1</td>\n",
       "      <td>1</td>\n",
       "      <td>1</td>\n",
       "      <td>1</td>\n",
       "      <td>1</td>\n",
       "      <td>1</td>\n",
       "      <td>1</td>\n",
       "      <td>1</td>\n",
       "    </tr>\n",
       "    <tr>\n",
       "      <th>...</th>\n",
       "      <td>...</td>\n",
       "      <td>...</td>\n",
       "      <td>...</td>\n",
       "      <td>...</td>\n",
       "      <td>...</td>\n",
       "      <td>...</td>\n",
       "      <td>...</td>\n",
       "      <td>...</td>\n",
       "      <td>...</td>\n",
       "      <td>...</td>\n",
       "      <td>...</td>\n",
       "      <td>...</td>\n",
       "      <td>...</td>\n",
       "      <td>...</td>\n",
       "      <td>...</td>\n",
       "      <td>...</td>\n",
       "      <td>...</td>\n",
       "    </tr>\n",
       "    <tr>\n",
       "      <th>515</th>\n",
       "      <td>39</td>\n",
       "      <td>0</td>\n",
       "      <td>1</td>\n",
       "      <td>1</td>\n",
       "      <td>1</td>\n",
       "      <td>0</td>\n",
       "      <td>1</td>\n",
       "      <td>0</td>\n",
       "      <td>0</td>\n",
       "      <td>1</td>\n",
       "      <td>0</td>\n",
       "      <td>1</td>\n",
       "      <td>1</td>\n",
       "      <td>0</td>\n",
       "      <td>0</td>\n",
       "      <td>0</td>\n",
       "      <td>1</td>\n",
       "    </tr>\n",
       "    <tr>\n",
       "      <th>516</th>\n",
       "      <td>48</td>\n",
       "      <td>0</td>\n",
       "      <td>1</td>\n",
       "      <td>1</td>\n",
       "      <td>1</td>\n",
       "      <td>1</td>\n",
       "      <td>1</td>\n",
       "      <td>0</td>\n",
       "      <td>0</td>\n",
       "      <td>1</td>\n",
       "      <td>1</td>\n",
       "      <td>1</td>\n",
       "      <td>1</td>\n",
       "      <td>0</td>\n",
       "      <td>0</td>\n",
       "      <td>0</td>\n",
       "      <td>1</td>\n",
       "    </tr>\n",
       "    <tr>\n",
       "      <th>517</th>\n",
       "      <td>58</td>\n",
       "      <td>0</td>\n",
       "      <td>1</td>\n",
       "      <td>1</td>\n",
       "      <td>1</td>\n",
       "      <td>1</td>\n",
       "      <td>1</td>\n",
       "      <td>0</td>\n",
       "      <td>1</td>\n",
       "      <td>0</td>\n",
       "      <td>0</td>\n",
       "      <td>0</td>\n",
       "      <td>1</td>\n",
       "      <td>1</td>\n",
       "      <td>0</td>\n",
       "      <td>1</td>\n",
       "      <td>1</td>\n",
       "    </tr>\n",
       "    <tr>\n",
       "      <th>518</th>\n",
       "      <td>32</td>\n",
       "      <td>0</td>\n",
       "      <td>0</td>\n",
       "      <td>0</td>\n",
       "      <td>0</td>\n",
       "      <td>1</td>\n",
       "      <td>0</td>\n",
       "      <td>0</td>\n",
       "      <td>1</td>\n",
       "      <td>1</td>\n",
       "      <td>0</td>\n",
       "      <td>1</td>\n",
       "      <td>0</td>\n",
       "      <td>0</td>\n",
       "      <td>1</td>\n",
       "      <td>0</td>\n",
       "      <td>0</td>\n",
       "    </tr>\n",
       "    <tr>\n",
       "      <th>519</th>\n",
       "      <td>42</td>\n",
       "      <td>1</td>\n",
       "      <td>0</td>\n",
       "      <td>0</td>\n",
       "      <td>0</td>\n",
       "      <td>0</td>\n",
       "      <td>0</td>\n",
       "      <td>0</td>\n",
       "      <td>0</td>\n",
       "      <td>0</td>\n",
       "      <td>0</td>\n",
       "      <td>0</td>\n",
       "      <td>0</td>\n",
       "      <td>0</td>\n",
       "      <td>0</td>\n",
       "      <td>0</td>\n",
       "      <td>0</td>\n",
       "    </tr>\n",
       "  </tbody>\n",
       "</table>\n",
       "<p>520 rows × 17 columns</p>\n",
       "</div>"
      ],
      "text/plain": [
       "     Age  Gender  Polyuria  Polydipsia  sudden weight loss  weakness  \\\n",
       "0     40       1         0           1                   0         1   \n",
       "1     58       1         0           0                   0         1   \n",
       "2     41       1         1           0                   0         1   \n",
       "3     45       1         0           0                   1         1   \n",
       "4     60       1         1           1                   1         1   \n",
       "..   ...     ...       ...         ...                 ...       ...   \n",
       "515   39       0         1           1                   1         0   \n",
       "516   48       0         1           1                   1         1   \n",
       "517   58       0         1           1                   1         1   \n",
       "518   32       0         0           0                   0         1   \n",
       "519   42       1         0           0                   0         0   \n",
       "\n",
       "     Polyphagia  Genital thrush  visual blurring  Itching  Irritability  \\\n",
       "0             0               0                0        1             0   \n",
       "1             0               0                1        0             0   \n",
       "2             1               0                0        1             0   \n",
       "3             1               1                0        1             0   \n",
       "4             1               0                1        1             1   \n",
       "..          ...             ...              ...      ...           ...   \n",
       "515           1               0                0        1             0   \n",
       "516           1               0                0        1             1   \n",
       "517           1               0                1        0             0   \n",
       "518           0               0                1        1             0   \n",
       "519           0               0                0        0             0   \n",
       "\n",
       "     delayed healing  partial paresis  muscle stiffness  Alopecia  Obesity  \\\n",
       "0                  1                0                 1         1        1   \n",
       "1                  0                1                 0         1        0   \n",
       "2                  1                0                 1         1        0   \n",
       "3                  1                0                 0         0        0   \n",
       "4                  1                1                 1         1        1   \n",
       "..               ...              ...               ...       ...      ...   \n",
       "515                1                1                 0         0        0   \n",
       "516                1                1                 0         0        0   \n",
       "517                0                1                 1         0        1   \n",
       "518                1                0                 0         1        0   \n",
       "519                0                0                 0         0        0   \n",
       "\n",
       "     class  \n",
       "0        1  \n",
       "1        1  \n",
       "2        1  \n",
       "3        1  \n",
       "4        1  \n",
       "..     ...  \n",
       "515      1  \n",
       "516      1  \n",
       "517      1  \n",
       "518      0  \n",
       "519      0  \n",
       "\n",
       "[520 rows x 17 columns]"
      ]
     },
     "execution_count": 14,
     "metadata": {},
     "output_type": "execute_result"
    }
   ],
   "source": [
    "df"
   ]
  },
  {
   "cell_type": "code",
   "execution_count": 15,
   "metadata": {
    "ExecuteTime": {
     "end_time": "2021-10-27T20:40:35.652936Z",
     "start_time": "2021-10-27T20:40:35.645124Z"
    },
    "id": "DV3NywLLSlgJ"
   },
   "outputs": [],
   "source": [
    "df.drop(columns=['partial paresis'],inplace=True)"
   ]
  },
  {
   "cell_type": "code",
   "execution_count": 16,
   "metadata": {
    "ExecuteTime": {
     "end_time": "2021-10-27T20:40:36.483794Z",
     "start_time": "2021-10-27T20:40:36.469149Z"
    },
    "id": "HvG3j5LNSXSo"
   },
   "outputs": [],
   "source": [
    "df.to_csv('diabetes_clean.csv',index=False)"
   ]
  },
  {
   "cell_type": "code",
   "execution_count": 17,
   "metadata": {
    "ExecuteTime": {
     "end_time": "2021-10-27T20:40:38.220695Z",
     "start_time": "2021-10-27T20:40:38.212884Z"
    },
    "id": "rQtwCf1nSXSq"
   },
   "outputs": [],
   "source": [
    "# Everything except target variable\n",
    "X = df.drop(\"class\", axis=1)\n",
    "\n",
    "# Target variable\n",
    "y = df['class'].values"
   ]
  },
  {
   "cell_type": "markdown",
   "metadata": {
    "id": "9VQZu_BqSXSq"
   },
   "source": [
    "# Prune features using decision tree"
   ]
  },
  {
   "cell_type": "code",
   "execution_count": 18,
   "metadata": {
    "ExecuteTime": {
     "end_time": "2021-10-27T20:40:44.808031Z",
     "start_time": "2021-10-27T20:40:44.793385Z"
    },
    "colab": {
     "base_uri": "https://localhost:8080/"
    },
    "id": "bBGlCkAgSXSr",
    "outputId": "7a4e3e7b-7ef7-4823-cc1c-b6d71b1dbda7"
   },
   "outputs": [
    {
     "data": {
      "text/plain": [
       "DecisionTreeClassifier()"
      ]
     },
     "execution_count": 18,
     "metadata": {},
     "output_type": "execute_result"
    }
   ],
   "source": [
    "#Prune features using decision tree\n",
    "clf = DecisionTreeClassifier()\n",
    "clf.fit(X, y)"
   ]
  },
  {
   "cell_type": "code",
   "execution_count": 19,
   "metadata": {
    "ExecuteTime": {
     "end_time": "2021-10-27T20:40:45.774602Z",
     "start_time": "2021-10-27T20:40:45.766791Z"
    },
    "id": "gNm4OOExSXSr"
   },
   "outputs": [],
   "source": [
    "pickle.dump(clf, open('decision_tree.pkl', 'wb'))"
   ]
  },
  {
   "cell_type": "code",
   "execution_count": 20,
   "metadata": {
    "ExecuteTime": {
     "end_time": "2021-10-27T20:40:46.838807Z",
     "start_time": "2021-10-27T20:40:46.354545Z"
    },
    "colab": {
     "base_uri": "https://localhost:8080/",
     "height": 477
    },
    "id": "_hoODyCESXSs",
    "outputId": "8b8bf098-ae9e-49b6-ea8b-6b4b1de7b991"
   },
   "outputs": [
    {
     "data": {
      "text/plain": [
       "<AxesSubplot:>"
      ]
     },
     "execution_count": 20,
     "metadata": {},
     "output_type": "execute_result"
    },
    {
     "data": {
      "image/png": "[encoded data removed]",
      "text/plain": [
       "<Figure size 864x432 with 1 Axes>"
      ]
     },
     "metadata": {},
     "output_type": "display_data"
    }
   ],
   "source": [
    "# Use the fitted model to generate a graph of feature importance\n",
    "pd.Series(clf.feature_importances_, index=df.columns[:len(df.columns)-1]).sort_values(ascending=False).plot.bar(color='steelblue', figsize=(12, 6))"
   ]
  },
  {
   "cell_type": "code",
   "execution_count": 21,
   "metadata": {
    "ExecuteTime": {
     "end_time": "2021-10-27T20:40:47.927427Z",
     "start_time": "2021-10-27T20:40:47.380673Z"
    },
    "colab": {
     "base_uri": "https://localhost:8080/"
    },
    "id": "9y8dYpKiSXSt",
    "outputId": "f9436435-9e37-48f8-d5b0-d15912695226"
   },
   "outputs": [
    {
     "data": {
      "text/plain": [
       "array(['Age', 'Gender', 'Polyuria', 'Polydipsia', 'sudden weight loss',\n",
       "       'visual blurring', 'Irritability', 'delayed healing', 'Alopecia',\n",
       "       'Obesity'], dtype=object)"
      ]
     },
     "execution_count": 21,
     "metadata": {},
     "output_type": "execute_result"
    }
   ],
   "source": [
    "from sklearn.feature_selection import RFECV\n",
    "\n",
    "clf = DecisionTreeClassifier()\n",
    "trans = RFECV(clf)\n",
    "X_trans = trans.fit_transform(X, y)\n",
    "columns_retained_RFECV = df.iloc[:, :-1].columns[trans.get_support()].values\n",
    "columns_retained_RFECV"
   ]
  },
  {
   "cell_type": "code",
   "execution_count": 22,
   "metadata": {
    "ExecuteTime": {
     "end_time": "2021-10-27T20:40:52.312144Z",
     "start_time": "2021-10-27T20:40:52.304334Z"
    },
    "colab": {
     "base_uri": "https://localhost:8080/"
    },
    "id": "e-Uzs10JSXSt",
    "outputId": "6986f9d5-1f46-4d3b-cc13-1dabdf12c899"
   },
   "outputs": [
    {
     "data": {
      "text/plain": [
       "array([[40,  1,  0, ...,  1,  1,  1],\n",
       "       [58,  1,  0, ...,  0,  1,  0],\n",
       "       [41,  1,  1, ...,  1,  1,  0],\n",
       "       ...,\n",
       "       [58,  0,  1, ...,  0,  0,  1],\n",
       "       [32,  0,  0, ...,  1,  1,  0],\n",
       "       [42,  1,  0, ...,  0,  0,  0]], dtype=int64)"
      ]
     },
     "execution_count": 22,
     "metadata": {},
     "output_type": "execute_result"
    }
   ],
   "source": [
    "X_trans"
   ]
  },
  {
   "cell_type": "markdown",
   "metadata": {
    "id": "Qiq6ZD9aSXSu"
   },
   "source": [
    "# Split data into training / test sets"
   ]
  },
  {
   "cell_type": "code",
   "execution_count": 23,
   "metadata": {
    "ExecuteTime": {
     "end_time": "2021-10-27T20:40:54.394669Z",
     "start_time": "2021-10-27T20:40:54.387833Z"
    },
    "id": "5f0c3bbYSXSv"
   },
   "outputs": [],
   "source": [
    "# Random seed for reproducibility\n",
    "np.random.seed(42)\n",
    "\n",
    "# Split into train & test set\n",
    "X_train, X_test, y_train, y_test = train_test_split(X_trans, # independent variables \n",
    "                                                    y, # dependent variable\n",
    "                                                    test_size = 0.2) # percentage of data to use for test set"
   ]
  },
  {
   "cell_type": "markdown",
   "metadata": {
    "id": "S1MsEOLMSXSv"
   },
   "source": [
    "# Compare 3 potential models"
   ]
  },
  {
   "cell_type": "code",
   "execution_count": 24,
   "metadata": {
    "ExecuteTime": {
     "end_time": "2021-10-27T20:40:56.771071Z",
     "start_time": "2021-10-27T20:40:56.755449Z"
    },
    "id": "TzyugVcZSXSw"
   },
   "outputs": [],
   "source": [
    "# Put models in a dictionary\n",
    "models = {\"KNN\": KNeighborsClassifier(),\n",
    "          \"Logistic Regression\": LogisticRegression(max_iter=1000), \n",
    "          \"Random Forest\": RandomForestClassifier()}"
   ]
  },
  {
   "cell_type": "code",
   "execution_count": 25,
   "metadata": {
    "ExecuteTime": {
     "end_time": "2021-10-27T20:40:57.563853Z",
     "start_time": "2021-10-27T20:40:57.557018Z"
    },
    "id": "frouZKgOSXSx"
   },
   "outputs": [],
   "source": [
    "# define method to fit multiple models\n",
    "def multi_fit(models, X_train, y_train):\n",
    "    # Random seed for reproducible results\n",
    "    np.random.seed(42)\n",
    "    # Loop through models\n",
    "    for name, model in models.items():\n",
    "        # Fit the model to the data\n",
    "        model.fit(X_train, y_train)"
   ]
  },
  {
   "cell_type": "code",
   "execution_count": 26,
   "metadata": {
    "ExecuteTime": {
     "end_time": "2021-10-27T20:40:59.971496Z",
     "start_time": "2021-10-27T20:40:59.711791Z"
    },
    "id": "eY_fOoM4SXSx"
   },
   "outputs": [],
   "source": [
    "# fit all 3 models\n",
    "model_metrics = multi_fit(models=models,\n",
    "                          X_train=X_train,\n",
    "                          y_train=y_train)"
   ]
  },
  {
   "cell_type": "code",
   "execution_count": 27,
   "metadata": {
    "ExecuteTime": {
     "end_time": "2021-10-27T20:41:01.837273Z",
     "start_time": "2021-10-27T20:41:01.827512Z"
    },
    "id": "Rj_txjuJSXSy"
   },
   "outputs": [],
   "source": [
    "# Create function to generate cross validated metrics for multiple models\n",
    "def cross_validated_metrics(models, X,  y):\n",
    "    \n",
    "    # Random seed for reproducible results\n",
    "    np.random.seed(42)\n",
    "    # Make a list to keep model scores totals\n",
    "    model_scores = {}\n",
    "    # Loop through models\n",
    "    for name, model in models.items():\n",
    "        # make a list to hold collected scores for each model\n",
    "        collected_scores = {}\n",
    "        # gather mean of cross validated score for a variety of metrics\n",
    "        for metric in ['accuracy', 'precision', 'recall']:\n",
    "            collected_scores[metric] = np.mean(cross_val_score(model,\n",
    "                                                               X,\n",
    "                                                               y,\n",
    "                                                               cv=5, # 5-fold cross-validation\n",
    "                                                               scoring=metric)) # loop through scoring methods\n",
    "        model_scores[name] = collected_scores\n",
    "    return model_scores"
   ]
  },
  {
   "cell_type": "code",
   "execution_count": 28,
   "metadata": {
    "ExecuteTime": {
     "end_time": "2021-10-27T20:41:10.891808Z",
     "start_time": "2021-10-27T20:41:04.110182Z"
    },
    "colab": {
     "base_uri": "https://localhost:8080/"
    },
    "id": "5C6MdRqmSXSz",
    "outputId": "2f8f01a7-e493-49c3-8423-fd24c774b9b9"
   },
   "outputs": [
    {
     "data": {
      "text/plain": [
       "{'KNN': {'accuracy': 0.8769230769230768,\n",
       "  'precision': 0.9436375310376157,\n",
       "  'recall': 0.85},\n",
       " 'Logistic Regression': {'accuracy': 0.9173076923076924,\n",
       "  'precision': 0.9335370706080088,\n",
       "  'recall': 0.934375},\n",
       " 'Random Forest': {'accuracy': 0.9692307692307693,\n",
       "  'precision': 0.9674275680421422,\n",
       "  'recall': 0.9875}}"
      ]
     },
     "execution_count": 28,
     "metadata": {},
     "output_type": "execute_result"
    }
   ],
   "source": [
    "model_metrics = cross_validated_metrics(models=models,\n",
    "                                       X=X_trans,\n",
    "                                       y=y)\n",
    "model_metrics"
   ]
  },
  {
   "cell_type": "markdown",
   "metadata": {
    "id": "e1LDh8f_SXS0"
   },
   "source": [
    "#### Seperate. using random forest test to verify results are the same"
   ]
  },
  {
   "cell_type": "code",
   "execution_count": 29,
   "metadata": {
    "ExecuteTime": {
     "end_time": "2021-10-27T20:41:15.658294Z",
     "start_time": "2021-10-27T20:41:13.711481Z"
    },
    "colab": {
     "base_uri": "https://localhost:8080/"
    },
    "id": "AycDIdfmSXS0",
    "outputId": "d207b32e-6cf3-4378-a086-b20975d518fd"
   },
   "outputs": [
    {
     "data": {
      "text/plain": [
       "0.9711538461538461"
      ]
     },
     "execution_count": 29,
     "metadata": {},
     "output_type": "execute_result"
    }
   ],
   "source": [
    "# Fit model and get baseline score\n",
    "np.random.seed(42)\n",
    "rf = RandomForestClassifier()\n",
    "rf.fit(X_train, y_train)\n",
    "\n",
    "# cross validated accuracy score for random forest\n",
    "cv_acc_rf = np.mean(cross_val_score(rf,\n",
    "                                       X_trans,\n",
    "                                       y,\n",
    "                                       cv=5, # 5-fold cross-validation\n",
    "                                       scoring=\"accuracy\")) # precision as scoring\n",
    "cv_acc_rf"
   ]
  },
  {
   "cell_type": "code",
   "execution_count": 30,
   "metadata": {
    "ExecuteTime": {
     "end_time": "2021-10-27T20:41:17.931202Z",
     "start_time": "2021-10-27T20:41:17.531881Z"
    },
    "colab": {
     "base_uri": "https://localhost:8080/",
     "height": 626
    },
    "id": "AxysOnhfSXS1",
    "outputId": "3bc88ed2-8caa-486c-b077-e230259ecba9"
   },
   "outputs": [
    {
     "data": {
      "image/png": "[encoded data removed]",
      "text/plain": [
       "<Figure size 720x720 with 1 Axes>"
      ]
     },
     "metadata": {},
     "output_type": "display_data"
    }
   ],
   "source": [
    "compare_metrics = pd.DataFrame(model_metrics)\n",
    "\n",
    "compare_metrics.plot.bar(figsize=(10, 10)).legend(bbox_to_anchor=(1,1));"
   ]
  },
  {
   "cell_type": "code",
   "execution_count": 31,
   "metadata": {
    "ExecuteTime": {
     "end_time": "2021-10-27T20:41:25.224322Z",
     "start_time": "2021-10-27T20:41:25.212587Z"
    },
    "id": "gcgVfM3-SXS2"
   },
   "outputs": [],
   "source": [
    "df_new = pd.read_csv(\"diabetes_clean.csv\") # 'df' is short for 'DataFrame'"
   ]
  },
  {
   "cell_type": "code",
   "execution_count": 32,
   "metadata": {
    "ExecuteTime": {
     "end_time": "2021-10-27T20:41:25.956557Z",
     "start_time": "2021-10-27T20:41:25.857947Z"
    },
    "colab": {
     "base_uri": "https://localhost:8080/",
     "height": 255
    },
    "id": "Z60LTwzBSXS2",
    "outputId": "cef5814f-0f20-4ff9-95b5-c5612eb3c8b9"
   },
   "outputs": [
    {
     "data": {
      "text/html": [
       "<div>\n",
       "<style scoped>\n",
       "    .dataframe tbody tr th:only-of-type {\n",
       "        vertical-align: middle;\n",
       "    }\n",
       "\n",
       "    .dataframe tbody tr th {\n",
       "        vertical-align: top;\n",
       "    }\n",
       "\n",
       "    .dataframe thead th {\n",
       "        text-align: right;\n",
       "    }\n",
       "</style>\n",
       "<table border=\"1\" class=\"dataframe\">\n",
       "  <thead>\n",
       "    <tr style=\"text-align: right;\">\n",
       "      <th></th>\n",
       "      <th>Age</th>\n",
       "      <th>Gender</th>\n",
       "      <th>Polyuria</th>\n",
       "      <th>Polydipsia</th>\n",
       "      <th>sudden weight loss</th>\n",
       "      <th>weakness</th>\n",
       "      <th>Polyphagia</th>\n",
       "      <th>Genital thrush</th>\n",
       "      <th>visual blurring</th>\n",
       "      <th>Itching</th>\n",
       "      <th>Irritability</th>\n",
       "      <th>delayed healing</th>\n",
       "      <th>muscle stiffness</th>\n",
       "      <th>Alopecia</th>\n",
       "      <th>Obesity</th>\n",
       "      <th>class</th>\n",
       "    </tr>\n",
       "  </thead>\n",
       "  <tbody>\n",
       "    <tr>\n",
       "      <th>0</th>\n",
       "      <td>40</td>\n",
       "      <td>1</td>\n",
       "      <td>0</td>\n",
       "      <td>1</td>\n",
       "      <td>0</td>\n",
       "      <td>1</td>\n",
       "      <td>0</td>\n",
       "      <td>0</td>\n",
       "      <td>0</td>\n",
       "      <td>1</td>\n",
       "      <td>0</td>\n",
       "      <td>1</td>\n",
       "      <td>1</td>\n",
       "      <td>1</td>\n",
       "      <td>1</td>\n",
       "      <td>1</td>\n",
       "    </tr>\n",
       "    <tr>\n",
       "      <th>1</th>\n",
       "      <td>58</td>\n",
       "      <td>1</td>\n",
       "      <td>0</td>\n",
       "      <td>0</td>\n",
       "      <td>0</td>\n",
       "      <td>1</td>\n",
       "      <td>0</td>\n",
       "      <td>0</td>\n",
       "      <td>1</td>\n",
       "      <td>0</td>\n",
       "      <td>0</td>\n",
       "      <td>0</td>\n",
       "      <td>0</td>\n",
       "      <td>1</td>\n",
       "      <td>0</td>\n",
       "      <td>1</td>\n",
       "    </tr>\n",
       "    <tr>\n",
       "      <th>2</th>\n",
       "      <td>41</td>\n",
       "      <td>1</td>\n",
       "      <td>1</td>\n",
       "      <td>0</td>\n",
       "      <td>0</td>\n",
       "      <td>1</td>\n",
       "      <td>1</td>\n",
       "      <td>0</td>\n",
       "      <td>0</td>\n",
       "      <td>1</td>\n",
       "      <td>0</td>\n",
       "      <td>1</td>\n",
       "      <td>1</td>\n",
       "      <td>1</td>\n",
       "      <td>0</td>\n",
       "      <td>1</td>\n",
       "    </tr>\n",
       "    <tr>\n",
       "      <th>3</th>\n",
       "      <td>45</td>\n",
       "      <td>1</td>\n",
       "      <td>0</td>\n",
       "      <td>0</td>\n",
       "      <td>1</td>\n",
       "      <td>1</td>\n",
       "      <td>1</td>\n",
       "      <td>1</td>\n",
       "      <td>0</td>\n",
       "      <td>1</td>\n",
       "      <td>0</td>\n",
       "      <td>1</td>\n",
       "      <td>0</td>\n",
       "      <td>0</td>\n",
       "      <td>0</td>\n",
       "      <td>1</td>\n",
       "    </tr>\n",
       "    <tr>\n",
       "      <th>4</th>\n",
       "      <td>60</td>\n",
       "      <td>1</td>\n",
       "      <td>1</td>\n",
       "      <td>1</td>\n",
       "      <td>1</td>\n",
       "      <td>1</td>\n",
       "      <td>1</td>\n",
       "      <td>0</td>\n",
       "      <td>1</td>\n",
       "      <td>1</td>\n",
       "      <td>1</td>\n",
       "      <td>1</td>\n",
       "      <td>1</td>\n",
       "      <td>1</td>\n",
       "      <td>1</td>\n",
       "      <td>1</td>\n",
       "    </tr>\n",
       "  </tbody>\n",
       "</table>\n",
       "</div>"
      ],
      "text/plain": [
       "   Age  Gender  Polyuria  Polydipsia  sudden weight loss  weakness  \\\n",
       "0   40       1         0           1                   0         1   \n",
       "1   58       1         0           0                   0         1   \n",
       "2   41       1         1           0                   0         1   \n",
       "3   45       1         0           0                   1         1   \n",
       "4   60       1         1           1                   1         1   \n",
       "\n",
       "   Polyphagia  Genital thrush  visual blurring  Itching  Irritability  \\\n",
       "0           0               0                0        1             0   \n",
       "1           0               0                1        0             0   \n",
       "2           1               0                0        1             0   \n",
       "3           1               1                0        1             0   \n",
       "4           1               0                1        1             1   \n",
       "\n",
       "   delayed healing  muscle stiffness  Alopecia  Obesity  class  \n",
       "0                1                 1         1        1      1  \n",
       "1                0                 0         1        0      1  \n",
       "2                1                 1         1        0      1  \n",
       "3                1                 0         0        0      1  \n",
       "4                1                 1         1        1      1  "
      ]
     },
     "execution_count": 32,
     "metadata": {},
     "output_type": "execute_result"
    }
   ],
   "source": [
    "df_new.head()"
   ]
  },
  {
   "cell_type": "markdown",
   "metadata": {
    "id": "p6mA5nV4SXS3"
   },
   "source": [
    "# Attempt to tune hyperparameters\n",
    "First try for logistic regression, then for randomforest"
   ]
  },
  {
   "cell_type": "markdown",
   "metadata": {
    "id": "pSBSFrY0SXS3"
   },
   "source": [
    "### Attempt to tune hyperparameters on random forest"
   ]
  },
  {
   "cell_type": "code",
   "execution_count": 33,
   "metadata": {
    "ExecuteTime": {
     "end_time": "2021-10-27T20:41:29.006626Z",
     "start_time": "2021-10-27T20:41:28.652215Z"
    },
    "colab": {
     "base_uri": "https://localhost:8080/"
    },
    "id": "YQ6OgszMSXS3",
    "outputId": "1a9a4c31-c668-429d-9a43-02f8cb7b7bee"
   },
   "outputs": [
    {
     "data": {
      "text/plain": [
       "RandomForestClassifier()"
      ]
     },
     "execution_count": 33,
     "metadata": {},
     "output_type": "execute_result"
    }
   ],
   "source": [
    "# Fit model and get baseline score\n",
    "rf = RandomForestClassifier()\n",
    "np.random.seed(42)\n",
    "rf.fit(X_train, y_train)"
   ]
  },
  {
   "cell_type": "code",
   "execution_count": 34,
   "metadata": {
    "ExecuteTime": {
     "end_time": "2021-10-27T20:41:30.873380Z",
     "start_time": "2021-10-27T20:41:30.854829Z"
    },
    "colab": {
     "base_uri": "https://localhost:8080/"
    },
    "id": "RaKUa0mcSXS4",
    "outputId": "b22a26b1-14db-499e-8c26-2598f22ba439"
   },
   "outputs": [
    {
     "data": {
      "text/plain": [
       "{'n_estimators': [200, 400, 600, 800, 1000, 1200, 1400, 1600, 1800, 2000],\n",
       " 'max_features': ['auto', 'sqrt'],\n",
       " 'max_depth': [10, 20, 30, 40, 50, 60, 70, 80, 90, 100, 110, None],\n",
       " 'min_samples_split': [2, 5, 10],\n",
       " 'min_samples_leaf': [1, 2, 4],\n",
       " 'bootstrap': [True, False]}"
      ]
     },
     "execution_count": 34,
     "metadata": {},
     "output_type": "execute_result"
    }
   ],
   "source": [
    "# Number of trees in random forest\n",
    "n_estimators = [int(x) for x in np.linspace(start = 200, stop = 2000, num = 10)]\n",
    "# Number of features to consider at every split\n",
    "max_features = ['auto', 'sqrt']\n",
    "# Maximum number of levels in tree\n",
    "max_depth = [int(x) for x in np.linspace(10, 110, num = 11)]\n",
    "max_depth.append(None)\n",
    "# Minimum number of samples required to split a node\n",
    "min_samples_split = [2, 5, 10]\n",
    "# Minimum number of samples required at each leaf node\n",
    "min_samples_leaf = [1, 2, 4]\n",
    "# Method of selecting samples for training each tree\n",
    "bootstrap = [True, False]# Create the random grid\n",
    "random_grid = {'n_estimators': n_estimators,\n",
    "               'max_features': max_features,\n",
    "               'max_depth': max_depth,\n",
    "               'min_samples_split': min_samples_split,\n",
    "               'min_samples_leaf': min_samples_leaf,\n",
    "               'bootstrap': bootstrap}\n",
    "random_grid"
   ]
  },
  {
   "cell_type": "code",
   "execution_count": 35,
   "metadata": {
    "ExecuteTime": {
     "end_time": "2021-10-27T20:41:38.980404Z",
     "start_time": "2021-10-27T20:41:32.845578Z"
    },
    "colab": {
     "base_uri": "https://localhost:8080/"
    },
    "id": "F9T-SZaOSXS4",
    "outputId": "507233c8-11d0-41ce-9bfe-4c23f2f97897"
   },
   "outputs": [
    {
     "name": "stdout",
     "output_type": "stream",
     "text": [
      "Fitting 3 folds for each of 1 candidates, totalling 3 fits\n"
     ]
    },
    {
     "data": {
      "text/plain": [
       "RandomizedSearchCV(cv=3, estimator=RandomForestClassifier(), n_iter=1,\n",
       "                   n_jobs=-1,\n",
       "                   param_distributions={'bootstrap': [True, False],\n",
       "                                        'max_depth': [10, 20, 30, 40, 50, 60,\n",
       "                                                      70, 80, 90, 100, 110,\n",
       "                                                      None],\n",
       "                                        'max_features': ['auto', 'sqrt'],\n",
       "                                        'min_samples_leaf': [1, 2, 4],\n",
       "                                        'min_samples_split': [2, 5, 10],\n",
       "                                        'n_estimators': [200, 400, 600, 800,\n",
       "                                                         1000, 1200, 1400, 1600,\n",
       "                                                         1800, 2000]},\n",
       "                   random_state=42, verbose=2)"
      ]
     },
     "execution_count": 35,
     "metadata": {},
     "output_type": "execute_result"
    }
   ],
   "source": [
    "# Use the random grid to search for best hyperparameters\n",
    "# First create the base model to tune\n",
    "\n",
    "# Random search of parameters, using 3 fold cross validation, \n",
    "# search across 100 different combinations, and use all available cores\n",
    "rf_random = RandomizedSearchCV(estimator = RandomForestClassifier(), \n",
    "                               param_distributions = random_grid, \n",
    "                               n_iter = 1, cv = 3, \n",
    "                               verbose=2, \n",
    "                               random_state=42, \n",
    "                               n_jobs = -1)\n",
    "# Fit the random search model\n",
    "rf_random.fit(X_train, y_train)"
   ]
  },
  {
   "cell_type": "code",
   "execution_count": 36,
   "metadata": {
    "ExecuteTime": {
     "end_time": "2021-10-27T20:41:42.061714Z",
     "start_time": "2021-10-27T20:41:42.054880Z"
    },
    "colab": {
     "base_uri": "https://localhost:8080/"
    },
    "id": "v39WzDRZSXS5",
    "outputId": "790be4c1-ccd8-4435-a6a4-956847d59ee1"
   },
   "outputs": [
    {
     "data": {
      "text/plain": [
       "{'n_estimators': 200,\n",
       " 'min_samples_split': 10,\n",
       " 'min_samples_leaf': 2,\n",
       " 'max_features': 'sqrt',\n",
       " 'max_depth': 50,\n",
       " 'bootstrap': True}"
      ]
     },
     "execution_count": 36,
     "metadata": {},
     "output_type": "execute_result"
    }
   ],
   "source": [
    "best = rf_random.best_params_\n",
    "best"
   ]
  },
  {
   "cell_type": "code",
   "execution_count": 37,
   "metadata": {
    "ExecuteTime": {
     "end_time": "2021-10-27T20:41:43.672668Z",
     "start_time": "2021-10-27T20:41:43.617993Z"
    },
    "colab": {
     "base_uri": "https://localhost:8080/"
    },
    "id": "LxFxYseLSXS5",
    "outputId": "6bb601ff-b64d-4189-8dec-262498a9c477"
   },
   "outputs": [
    {
     "data": {
      "text/plain": [
       "0.9615384615384616"
      ]
     },
     "execution_count": 37,
     "metadata": {},
     "output_type": "execute_result"
    }
   ],
   "source": [
    "rf_random.score(X_test, y_test)"
   ]
  },
  {
   "cell_type": "code",
   "execution_count": 38,
   "metadata": {
    "ExecuteTime": {
     "end_time": "2021-10-27T20:41:45.057112Z",
     "start_time": "2021-10-27T20:41:45.051253Z"
    },
    "id": "5-JNsh8zSXS5"
   },
   "outputs": [],
   "source": [
    "newmodels = {\"Logistic Regression\": models[\"Logistic Regression\"],\n",
    "             \"Random Forest\": models[\"Random Forest\"], \n",
    "            \"RS trained RF\" : rf_random}"
   ]
  },
  {
   "cell_type": "code",
   "execution_count": 39,
   "metadata": {
    "ExecuteTime": {
     "end_time": "2021-10-27T20:42:24.439090Z",
     "start_time": "2021-10-27T20:41:47.209932Z"
    },
    "colab": {
     "base_uri": "https://localhost:8080/"
    },
    "id": "L61Zmhq7SXS6",
    "outputId": "6e721c1f-ac7f-4975-fef9-d710ed127d33"
   },
   "outputs": [
    {
     "name": "stdout",
     "output_type": "stream",
     "text": [
      "Fitting 3 folds for each of 1 candidates, totalling 3 fits\n",
      "Fitting 3 folds for each of 1 candidates, totalling 3 fits\n",
      "Fitting 3 folds for each of 1 candidates, totalling 3 fits\n",
      "Fitting 3 folds for each of 1 candidates, totalling 3 fits\n",
      "Fitting 3 folds for each of 1 candidates, totalling 3 fits\n",
      "Fitting 3 folds for each of 1 candidates, totalling 3 fits\n",
      "Fitting 3 folds for each of 1 candidates, totalling 3 fits\n",
      "Fitting 3 folds for each of 1 candidates, totalling 3 fits\n",
      "Fitting 3 folds for each of 1 candidates, totalling 3 fits\n",
      "Fitting 3 folds for each of 1 candidates, totalling 3 fits\n",
      "Fitting 3 folds for each of 1 candidates, totalling 3 fits\n",
      "Fitting 3 folds for each of 1 candidates, totalling 3 fits\n",
      "Fitting 3 folds for each of 1 candidates, totalling 3 fits\n",
      "Fitting 3 folds for each of 1 candidates, totalling 3 fits\n",
      "Fitting 3 folds for each of 1 candidates, totalling 3 fits\n"
     ]
    },
    {
     "data": {
      "text/plain": [
       "{'Logistic Regression': {'accuracy': 0.9173076923076924,\n",
       "  'precision': 0.9335370706080088,\n",
       "  'recall': 0.934375},\n",
       " 'Random Forest': {'accuracy': 0.9692307692307693,\n",
       "  'precision': 0.9674275680421422,\n",
       "  'recall': 0.9875},\n",
       " 'RS trained RF': {'accuracy': 0.9557692307692307,\n",
       "  'precision': 0.9607079195314491,\n",
       "  'recall': 0.971875}}"
      ]
     },
     "execution_count": 39,
     "metadata": {},
     "output_type": "execute_result"
    }
   ],
   "source": [
    "model_metrics = cross_validated_metrics(models=newmodels,\n",
    "                                       X=X_trans,\n",
    "                                       y=y)\n",
    "model_metrics"
   ]
  },
  {
   "cell_type": "code",
   "execution_count": 40,
   "metadata": {
    "ExecuteTime": {
     "end_time": "2021-10-27T20:42:30.889736Z",
     "start_time": "2021-10-27T20:42:30.560712Z"
    },
    "colab": {
     "base_uri": "https://localhost:8080/",
     "height": 626
    },
    "id": "zbmW70HCSXS6",
    "outputId": "98cb4d25-bfdd-47db-bcd0-b1b2d427edba"
   },
   "outputs": [
    {
     "data": {
      "image/png": "[encoded data removed]",
      "text/plain": [
       "<Figure size 720x720 with 1 Axes>"
      ]
     },
     "metadata": {},
     "output_type": "display_data"
    }
   ],
   "source": [
    "compare_new_metrics = pd.DataFrame(model_metrics)\n",
    "\n",
    "compare_new_metrics.plot.bar(figsize=(10, 10)).legend(bbox_to_anchor=(1,1));"
   ]
  },
  {
   "cell_type": "markdown",
   "metadata": {
    "id": "KoxjZQ3GSXS6"
   },
   "source": [
    "# Export the trained model to pickle"
   ]
  },
  {
   "cell_type": "code",
   "execution_count": 41,
   "metadata": {
    "ExecuteTime": {
     "end_time": "2021-10-27T20:42:57.214823Z",
     "start_time": "2021-10-27T20:42:57.198226Z"
    },
    "id": "jI3P_giDSXS7"
   },
   "outputs": [],
   "source": [
    "pickle.dump(rf, open('rf_model.pkl', 'wb'))"
   ]
  },
  {
   "cell_type": "code",
   "execution_count": null,
   "metadata": {},
   "outputs": [],
   "source": []
  }
 ],
 "metadata": {
  "colab": {
   "name": "Predicting the Risk of Diabetes Using Machine Learning.ipynb",
   "provenance": []
  },
  "kernelspec": {
   "display_name": "Python 3",
   "language": "python",
   "name": "python3"
  },
  "language_info": {
   "codemirror_mode": {
    "name": "ipython",
    "version": 3
   },
   "file_extension": ".py",
   "mimetype": "text/x-python",
   "name": "python",
   "nbconvert_exporter": "python",
   "pygments_lexer": "ipython3",
   "version": "3.8.5"
  },
  "varInspector": {
   "cols": {
    "lenName": 16,
    "lenType": 16,
    "lenVar": 40
   },
   "kernels_config": {
    "python": {
     "delete_cmd_postfix": "",
     "delete_cmd_prefix": "del ",
     "library": "var_list.py",
     "varRefreshCmd": "print(var_dic_list())"
    },
    "r": {
     "delete_cmd_postfix": ") ",
     "delete_cmd_prefix": "rm(",
     "library": "var_list.r",
     "varRefreshCmd": "cat(var_dic_list()) "
    }
   },
   "types_to_exclude": [
    "module",
    "function",
    "builtin_function_or_method",
    "instance",
    "_Feature"
   ],
   "window_display": false
  }
 },
 "nbformat": 4,
 "nbformat_minor": 1
}
